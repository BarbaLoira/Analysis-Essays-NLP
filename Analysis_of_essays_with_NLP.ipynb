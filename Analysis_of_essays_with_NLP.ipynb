{
  "nbformat": 4,
  "nbformat_minor": 0,
  "metadata": {
    "colab": {
      "name": "Analysis of essays with NLP.ipynb",
      "version": "0.3.2",
      "provenance": [],
      "include_colab_link": true
    },
    "kernelspec": {
      "name": "python3",
      "display_name": "Python 3"
    },
    "accelerator": "GPU"
  },
  "cells": [
    {
      "cell_type": "markdown",
      "metadata": {
        "id": "view-in-github",
        "colab_type": "text"
      },
      "source": [
        "<a href=\"https://colab.research.google.com/github/BarbaLoira/Analysis-Essays-NLP/blob/master/Analysis_of_essays_with_NLP.ipynb\" target=\"_parent\"><img src=\"https://colab.research.google.com/assets/colab-badge.svg\" alt=\"Open In Colab\"/></a>"
      ]
    },
    {
      "metadata": {
        "id": "xp6irXHBn9O8",
        "colab_type": "text"
      },
      "cell_type": "markdown",
      "source": [
        "#Install uol-redacoes-xml"
      ]
    },
    {
      "metadata": {
        "id": "gWx11T9doFEY",
        "colab_type": "code",
        "outputId": "c03dad4b-285e-4472-ddd7-9c9f3c8ea98d",
        "colab": {
          "base_uri": "https://localhost:8080/",
          "height": 153
        }
      },
      "cell_type": "code",
      "source": [
        "!pip install git+https://github.com/gpassero/uol-redacoes-xml.git"
      ],
      "execution_count": 1,
      "outputs": [
        {
          "output_type": "stream",
          "text": [
            "Collecting git+https://github.com/gpassero/uol-redacoes-xml.git\n",
            "  Cloning https://github.com/gpassero/uol-redacoes-xml.git to /tmp/pip-req-build-m_e13a2h\n",
            "Building wheels for collected packages: uol-redacoes-xml\n",
            "  Building wheel for uol-redacoes-xml (setup.py) ... \u001b[?25ldone\n",
            "\u001b[?25h  Stored in directory: /tmp/pip-ephem-wheel-cache-nhz_o8qn/wheels/1b/d6/69/d465fd205ecd2058fe620852fb31bdf5cd0b9697ec2d7548eb\n",
            "Successfully built uol-redacoes-xml\n",
            "Installing collected packages: uol-redacoes-xml\n",
            "Successfully installed uol-redacoes-xml-0.2\n"
          ],
          "name": "stdout"
        }
      ]
    },
    {
      "metadata": {
        "id": "R1MrzKAgoGYo",
        "colab_type": "text"
      },
      "cell_type": "markdown",
      "source": [
        "#import and load uol_redacoes_xml"
      ]
    },
    {
      "metadata": {
        "id": "7-37iRG8ojjA",
        "colab_type": "code",
        "outputId": "d4a8b0ed-16a7-4ff3-be2c-19d8d9922ebb",
        "colab": {
          "base_uri": "https://localhost:8080/",
          "height": 136
        }
      },
      "cell_type": "code",
      "source": [
        "import nltk\n",
        "nltk.download('punkt')\n",
        "import uol_redacoes_xml\n",
        "\n",
        "essays = uol_redacoes_xml.load()\n",
        "# print(len(essays)) #~2000\n",
        "\n",
        "# print(essays[0].text) #texto original da primeira redação\n",
        "\n",
        "# print(  [attr for attr in essays[0].__dir__() if not attr.startswith('_')]   ) # exibe os atributos do objeto de redação (exceto os privados, que começam com '_')\n",
        "\n",
        " \n",
        "\n"
      ],
      "execution_count": 2,
      "outputs": [
        {
          "output_type": "stream",
          "text": [
            "[nltk_data] Downloading package punkt to /root/nltk_data...\n",
            "[nltk_data]   Unzipping tokenizers/punkt.zip.\n"
          ],
          "name": "stdout"
        },
        {
          "output_type": "stream",
          "text": [
            "UOL essays load warnings: \n",
            "No text  ->  3\n",
            "Final score != from sum of criteria score  ->  45\n",
            "Not 5 criteria  ->  7\n",
            "Total warnings: 55\n"
          ],
          "name": "stderr"
        }
      ]
    },
    {
      "metadata": {
        "id": "AISDcT21pwUb",
        "colab_type": "text"
      },
      "cell_type": "markdown",
      "source": [
        "#Imports Useful"
      ]
    },
    {
      "metadata": {
        "id": "i-96vfVRqqz7",
        "colab_type": "code",
        "colab": {}
      },
      "cell_type": "code",
      "source": [
        "from sklearn.model_selection import cross_validate \n",
        "from sklearn.svm import SVC\n",
        "from sklearn.cluster import KMeans\n",
        "from sklearn import datasets\n",
        "\n",
        "from uol_redacoes_xml.reader.commons import kfold_cross_validation\n",
        "\n",
        "import numpy as np\n",
        "\n",
        "import matplotlib\n",
        "import matplotlib.pyplot as plt\n",
        "\n",
        "import pandas as pd\n",
        "\n",
        "import spacy\n",
        "#!python -m spacy download pt\n",
        "nlp = spacy.load('pt')\n",
        " "
      ],
      "execution_count": 0,
      "outputs": []
    },
    {
      "metadata": {
        "id": "oUIEEojyda_v",
        "colab_type": "text"
      },
      "cell_type": "markdown",
      "source": [
        "#formatando o texto"
      ]
    },
    {
      "metadata": {
        "id": "Qi-aIQ1ydeeQ",
        "colab_type": "code",
        "colab": {}
      },
      "cell_type": "code",
      "source": [
        "variables  = ['title', 'text' , 'final_score' ]\n",
        "data = [ [getattr(i,attr) for attr in essays[0].__dir__() if not attr.startswith('_') and not attr.startswith('prompt') and not attr.startswith('url') and not attr.startswith('fixed_text') and not attr.startswith('errors') and not attr.startswith('get_features') and not attr.startswith('comments') and not attr.startswith('criteria_scores') ] for i in essays]\n",
        "\n",
        "text_formatted = pd.DataFrame(data ,columns = variables )\n",
        "text_formatted\n",
        "#text_formatted.head()\n",
        "#text_formatted.tail()\n",
        "#text_formatted[\"text\"][0]"
      ],
      "execution_count": 0,
      "outputs": []
    },
    {
      "metadata": {
        "id": "96QmJTXEWuF2",
        "colab_type": "text"
      },
      "cell_type": "markdown",
      "source": [
        "#Flesch Reading Ease"
      ]
    },
    {
      "metadata": {
        "id": "o_S5hjdoWzSm",
        "colab_type": "code",
        "colab": {
          "base_uri": "https://localhost:8080/",
          "height": 34
        },
        "outputId": "91e035b0-8c21-4e85-d6ea-aed3f9332bd4"
      },
      "cell_type": "code",
      "source": [
        "\n",
        "\n",
        "sizeText = len(text_formatted[\"text\"][0].replace(\" \",\"\"))\n",
        "\n",
        "sizeSentence = len(nlp(text_formatted[\"text\"][0]))\n",
        "\n",
        "\n",
        "\n"
      ],
      "execution_count": 18,
      "outputs": [
        {
          "output_type": "execute_result",
          "data": {
            "text/plain": [
              "231"
            ]
          },
          "metadata": {
            "tags": []
          },
          "execution_count": 18
        }
      ]
    }
  ]
}