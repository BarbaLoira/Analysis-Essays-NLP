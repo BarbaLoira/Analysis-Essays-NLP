{
  "nbformat": 4,
  "nbformat_minor": 0,
  "metadata": {
    "colab": {
      "name": "minrecao_dados_educacionais_livox.ipynb",
      "version": "0.3.2",
      "provenance": [],
      "include_colab_link": true
    },
    "kernelspec": {
      "name": "python3",
      "display_name": "Python 3"
    },
    "accelerator": "GPU"
  },
  "cells": [
    {
      "cell_type": "markdown",
      "metadata": {
        "id": "view-in-github",
        "colab_type": "text"
      },
      "source": [
        "<a href=\"https://colab.research.google.com/github/BarbaLoira/Analysis-Essays-NLP/blob/master/minrecao_dados_educacionais_livox.ipynb\" target=\"_parent\"><img src=\"https://colab.research.google.com/assets/colab-badge.svg\" alt=\"Open In Colab\"/></a>"
      ]
    },
    {
      "metadata": {
        "id": "bCM7fTzTkEFc",
        "colab_type": "code",
        "outputId": "b9b2ec7a-bde5-409e-c9d9-477992e0966d",
        "colab": {
          "base_uri": "https://localhost:8080/",
          "height": 34
        }
      },
      "cell_type": "code",
      "source": [
        "#!pip install wikipedia\n",
        "#!pip install cssselect\n",
        "\n",
        "from wikipedia import wikipedia  \n",
        "wikipedia.search(\"Barack\") \n",
        "# [u'Barak (given name)', u'Barack Obama', u'Barack (brandy)', u'Presidency of Barack Obama', u'Family of Barack Obama', u'First inauguration of Barack Obama', u'Barack Obama presidential campaign, 2008', u'Barack Obama, Sr.', u'Barack Obama citizenship conspiracy theories', u'Presidential transition of Barack Obama']\n",
        "\n",
        "ny = wikipedia.page(\"Barack Obama\")\n",
        "ny.title\n",
        "# u'New York'\n",
        "ny.url\n",
        "# u'http://en.wikipedia.org/wiki/New_York'\n",
        "ny.content\n",
        "# u'New York is a state in the Northeastern region of the United States. New York is the 27th-most exten'...\n",
        "ny.links[0]\n",
        "# u'1790 United States Census'\n",
        "\n",
        "wikipedia.set_lang(\"pt\")\n",
        "wikipedia.summary(\"Barack Obama\", sentences=1)\n",
        "# Facebook est un service de réseautage social en ligne sur Internet permettant d'y publier des informations (photographies, liens, textes, etc.) en contrôlant leur visibilité par différentes catégories de personnes."
      ],
      "execution_count": 17,
      "outputs": [
        {
          "output_type": "execute_result",
          "data": {
            "text/plain": [
              "'Barack Hussein Obama II (Honolulu, 4 de agosto de 1961) é um advogado e político norte-americano que serviu como o 44.º presidente dos Estados Unidos de 2009 a 2017, sendo o primeiro afro-americano a ocupar o cargo.'"
            ]
          },
          "metadata": {
            "tags": []
          },
          "execution_count": 17
        }
      ]
    },
    {
      "metadata": {
        "id": "q9EPKXEuu_kN",
        "colab_type": "code",
        "outputId": "13bcff2b-c385-4852-bef8-02af978eab55",
        "colab": {
          "base_uri": "https://localhost:8080/",
          "height": 68
        }
      },
      "cell_type": "code",
      "source": [
        "sentence = \"Lista de presidentes do Brasil\"\n",
        "wikipedia.search(sentence)\n",
        "result = wikipedia.page(sentence) \n",
        "result.content\n",
        "result.url\n",
        "wikipedia.search(sentence, results=3)\n",
        " "
      ],
      "execution_count": 18,
      "outputs": [
        {
          "output_type": "execute_result",
          "data": {
            "text/plain": [
              "['Lista de presidentes do Brasil',\n",
              " 'Lista de vice-presidentes do Brasil',\n",
              " 'Lista dos presidentes do Brasil por nascimento']"
            ]
          },
          "metadata": {
            "tags": []
          },
          "execution_count": 18
        }
      ]
    },
    {
      "metadata": {
        "id": "KLHImxra3312",
        "colab_type": "code",
        "outputId": "b0ff351c-74a1-40cb-a3d0-4d5cb4acacf5",
        "colab": {
          "base_uri": "https://localhost:8080/",
          "height": 289
        }
      },
      "cell_type": "code",
      "source": [
        " \n",
        "from lxml import html\n",
        "import requests\n",
        "url = result.url\n",
        "tree  = html.fromstring(requests.get(url).text)\n",
        "cells = tree.cssselect('table.wikitable')[0].cssselect('tr th:nth-of-type(1) a')\n",
        "[t.text_content() for t in cells]"
      ],
      "execution_count": 19,
      "outputs": [
        {
          "output_type": "execute_result",
          "data": {
            "text/plain": [
              "['Primeira República',\n",
              " 'Primeira República',\n",
              " 'República Velha',\n",
              " 'República da Espada',\n",
              " 'República Oligárquica',\n",
              " 'Segunda República (Governos Provisório e Constitucional)',\n",
              " 'Segunda República (Governos Provisório e Constitucional)',\n",
              " '[nota 11]',\n",
              " 'Terceira República (Estado Novo)',\n",
              " 'Terceira República (Estado Novo)',\n",
              " 'Quarta República (República Populista)',\n",
              " 'Quarta República (República Populista)',\n",
              " 'Quinta República (Ditadura Militar)',\n",
              " 'Quinta República (Ditadura Militar)',\n",
              " 'Sexta República (Nova república)',\n",
              " 'Sexta República (Nova república)']"
            ]
          },
          "metadata": {
            "tags": []
          },
          "execution_count": 19
        }
      ]
    },
    {
      "metadata": {
        "id": "mdojA8etu1cM",
        "colab_type": "code",
        "colab": {
          "base_uri": "https://localhost:8080/",
          "height": 54
        },
        "outputId": "5ede9b1d-c9d5-4e30-91b2-66fa43611059"
      },
      "cell_type": "code",
      "source": [
        "url = result.url\n",
        "tree  = html.fromstring(requests.get(url).text)\n",
        "cells = tree.cssselect('table.wikitable') \n",
        "[t.text_content() for t in cells]"
      ],
      "execution_count": 22,
      "outputs": [
        {
          "output_type": "execute_result",
          "data": {
            "text/plain": [
              "['\\n\\n\\n\\nNº\\n\\nPresidente\\n\\nPeríodo do mandato(duração do mandato)\\n\\nPartido\\n\\nVice-presidente(s)\\n\\nReferências e notas\\n\\nEleição\\n\\n\\n\\nPrimeira República\\nPrimeira República (República Velha: República da Espada e República Oligárquica)(15 de novembro de 1889 a 24 de outubro de 1930 – 40\\xa0anos, 11\\xa0meses e 9\\xa0dias)\\n\\n\\n\\n1\\n\\nDeodoro da Fonseca\\n\\n\\n\\n15 de novembro de 1889até23 de novembro de 1891(2\\xa0anos e 8\\xa0dias)\\n\\nnenhum (militar)\\n\\nnenhum\\n\\n[nota 1][1]\\n\\nProclamação - 1889\\n\\n\\nFloriano Peixoto\\n\\n1891\\n\\n\\n2\\n\\nFloriano Peixoto\\n\\n\\n\\n23 de novembro de 1891até15 de novembro de 1894(2 anos e 357 dias)\\n\\nnenhum (militar)\\n\\nnenhum\\n\\n[nota 2][2]\\n\\n-\\n\\n\\n3\\n\\nPrudente de Morais\\n\\n\\n\\n15 de novembro de 1894até15 de novembro de 1898(4 anos)\\n\\nPartidoRepublicano FederalPR Federal\\n\\nManuel Vitorino\\n\\n[3]\\n\\n1894\\n\\n\\n4\\n\\nCampos Sales\\n\\n\\n\\n15 de novembro de 1898até15 de novembro de 1902\\n(4 anos)\\n\\n\\nPartidoRepublicano PaulistaPRP\\n\\nRosa e Silva\\n\\n[4]\\n\\n1898\\n\\n\\n5\\n\\nRodrigues Alves\\n\\n\\n\\n15 de novembro de 1902até15 de novembro de 1906\\n(4 anos)\\n\\n\\nPartidoRepublicano PaulistaPRP\\n\\nnenhum\\n\\n[nota 3][5]\\n\\n1902\\n\\n\\nAfonso Pena\\n\\n\\n6\\n\\nAfonso Pena\\n\\n\\n\\n15 de novembro de 1906até14 de junho de 1909\\n(2 anos e 211 dias)\\n\\n\\nPartidoRepublicano MineiroPRM\\n\\nNilo Peçanha\\n\\n[nota 4][6]\\n\\n1906\\n\\n\\n7\\n\\nNilo Peçanha\\n\\n\\n\\n14 de junho de 1909até15 de novembro de 1910\\n(1 ano e 154 dias)\\n\\n\\nPartidoRepublicano FluminensePRF\\n\\nnenhum\\n\\n[6]\\n\\n-\\n\\n\\n8\\n\\nHermes da Fonseca\\n\\n\\n\\n15 de novembro de 1910até15 de novembro de 1914\\n(4 anos)\\n\\n\\nPartidoRepublicano ConservadorPRC\\n\\nVenceslau Brás\\n\\n[7]\\n\\n1910\\n\\n\\n9\\n\\nVenceslau Brás\\n\\n\\n\\n15 de novembro de 1914até15 de novembro de 1918\\n(4 anos)\\n\\n\\nPartidoRepublicano MineiroPRM\\n\\nUrbano Santos\\n\\n[8]\\n\\n1914\\n\\n\\n—\\n\\nRodrigues Alves\\n\\n\\n\\nMorreu antes de tomar posse\\n\\nPartidoRepublicano PaulistaPRP\\n\\nDelfim Moreira\\n\\n[nota 5][5]\\n\\n1918\\n\\n\\n10\\n\\nDelfim Moreira\\n\\n\\n\\n15 de novembro de 1918até28 de julho de 1919\\n(255 dias)\\n\\n\\nPartidoRepublicano MineiroPRM\\n\\nnenhum\\n\\n[nota 6][9]\\n\\n-\\n\\n\\n11\\n\\nEpitácio Pessoa\\n\\n\\n\\n28 de julho de 1919até15 de novembro de 1922\\n(3 anos e 110 dias)\\n\\n\\nPartidoRepublicano MineiroPRM\\n\\nDelfim Moreira\\n\\n[nota 7]\\n\\n1919\\n\\n\\nnenhum\\n\\n\\nBueno de Paiva\\n\\n\\n12\\n\\nArtur Bernardes\\n\\n\\n\\n15 de novembro de 1922até15 de novembro de 1926\\n(4 anos)\\n\\n\\nPartidoRepublicano MineiroPRM\\n\\nEstácio Coimbra\\n\\n[nota 8][10]\\n\\n1922\\n\\n\\n13\\n\\nWashington Luís\\n\\n\\n\\n15 de novembro de 1926até24 de outubro de 1930\\n(3 anos e 343 dias)\\n\\n\\nPartidoRepublicano PaulistaPRP\\n\\nFernando de Melo Viana\\n\\n[nota 9]\\n\\n1926\\n\\n\\n—\\n\\nJúlio Prestes\\n\\n\\n\\nEleito, não assumiu em razão da Revolução de 1930\\n\\nPartidoRepublicano PaulistaPRP\\n\\nVital Soares\\n\\n[nota 10]\\n\\n1930\\n\\n\\n\\nSegunda República (Governos Provisório e Constitucional)\\nSegunda República (Governos Provisório e Constitucional) [nota 11] (24 de outubro de 1930 a 10 de novembro 1937 – 7\\xa0anos e 17\\xa0dias)\\n\\n\\n\\n—\\n\\nJunta Governativa Provisória de 1930\\n\\n\\n\\n24 de outubro de 1930até3 de novembro de 1930\\n(10 dias)\\n\\n\\nnenhum (militares)\\n\\nnenhum\\n\\n[nota 12]\\n\\n-\\n\\n\\n14\\n\\nGetúlio Vargas\\n\\n\\n\\n3 de novembro de 1930até10 de novembro de 1937\\n(7 anos e 7 dias)\\n\\n\\nnenhum (civil)\\n\\nnenhum\\n\\n[nota 13]\\n\\nRevolução de 1930\\n\\n\\n1934\\n\\n\\n\\nTerceira República (Estado Novo)\\nTerceira República (Estado Novo) (10 de novembro 1937 a 31 de janeiro de 1946 – 8\\xa0anos, 2\\xa0meses e 21\\xa0dias)\\n\\n\\n14\\n\\nGetúlio Vargas\\n\\n\\n\\n10 de novembro de 1937até29 de outubro de 1945\\n(7 anos e 353 dias)\\n\\n\\nnenhum (civil)\\n\\nnenhum\\n\\n\\n\\nGolpe de 1937\\n\\n\\n15\\n\\nJosé Linhares\\n\\n\\n\\n29 de outubro de 1945até31 de janeiro de 1946\\n(94 dias)\\n\\n\\nnenhum (civil)\\n\\nnenhum\\n\\n[nota 14]\\n\\n-\\n\\n\\n\\nQuarta República (República Populista)\\nQuarta República (República Populista)(31 de janeiro de 1946 a 2 de abril de 1964 – 18\\xa0anos, 2\\xa0meses e 2\\xa0dias)\\n\\n\\n\\n16\\n\\nEurico Gaspar Dutra\\n\\n\\n\\n31 de janeiro de 1946até31 de janeiro de 1951\\n(5 anos)\\n\\n\\nPartidoSocial DemocráticoPSD\\n\\nnenhum\\n\\n[nota 15][12]\\n\\n1945\\n\\n\\nNereu Ramos\\n\\n\\n17\\n\\nGetúlio Vargas\\n\\n\\n\\n31 de janeiro de 1951até24 de agosto de 1954\\n(3 anos e 205 dias)\\n\\n\\nPartidoTrabalhista BrasileiroPTB\\n\\nCafé Filho\\n\\n[nota 16]\\n\\n1950\\n\\n\\n18\\n\\nCafé Filho\\n\\n\\n\\n24 de agosto de 1954até8 de novembro de 1955\\n(1 ano e 76 dias)\\n\\n\\nPartidoSocial ProgressistaPSP\\n\\nnenhum\\n\\n[nota 17]\\n\\n-\\n\\n\\n19\\n\\nCarlos Luz\\n\\n\\n\\n8 de novembro de 1955até11 de novembro de 1955\\n(3 dias)\\n\\n\\nPartidoSocial DemocráticoPSD\\n\\nnenhum\\n\\n[nota 18]\\n\\n-\\n\\n\\n20\\n\\nNereu Ramos\\n\\n\\n\\n11 de novembro de 1955até31 de janeiro de 1956\\n(81 dias)\\n\\n\\nPartidoSocial DemocráticoPSD\\n\\nnenhum\\n\\n[nota 19][13][14][15]\\n\\n-\\n\\n\\n21\\n\\nJuscelino Kubitschek\\n\\n\\n\\n31 de janeiro de 1956até31 de janeiro de 1961\\n(5 anos)\\n\\n\\nPartidoSocial DemocráticoPSD\\n\\nJoão Goulart\\n\\n[16]\\n\\n1955\\n\\n\\n22\\n\\nJânio Quadros\\n\\n\\n\\n31 de janeiro de 1961até25 de agosto de 1961\\n(206 dias)\\n\\n\\nPartidoTrabalhista NacionalPTN\\n\\nJoão Goulart\\n\\n[nota 20]\\n1960\\n\\n\\n23\\n\\nRanieri Mazzilli\\n\\n\\n\\n25 de agosto de 1961até7 de setembro de 1961\\n(13 dias)\\n\\n\\nPartidoSocial DemocráticoPSD\\n\\nnenhum\\n\\n[nota 21]\\n\\n-\\n\\n\\n24\\n\\nJoão Goulart\\n\\n\\n\\n7 de setembro de 1961até2 de abril de 1964\\n(2 anos e 208 dias)\\n\\n\\nPartidoTrabalhista BrasileiroPTB\\n\\nnenhum\\n\\n[nota 22][nota 23]\\n\\n-\\n\\n\\n\\nQuinta República (Ditadura Militar)\\nQuinta República (Ditadura Militar) (2 de abril de 1964 a 15 de março de 1985 – 20\\xa0anos, 11\\xa0meses e 13\\xa0dias)\\n\\n\\n\\n25\\n\\nRanieri Mazzilli\\n\\n\\n\\n2 de abril de 1964até15 de abril de 1964\\n(13 dias)\\n\\n\\nPartidoSocial DemocráticoPSD\\n\\nnenhum\\n\\n[nota 24]\\n\\n-\\n\\n\\n26\\n\\nHumberto Castelo Branco\\n\\n\\n\\n15 de abril de 1964até15 de março de 1967\\n(2 anos e 334 dias)\\n\\n\\nnenhum (militar)\\n\\nJosé Maria Alkmin\\n\\n[nota 25][17]\\n\\n1964\\n\\n\\nAliançaRenovadora NacionalARENA\\n\\n\\n27\\n\\nArtur da Costa e Silva\\n\\n\\n\\n15 de março de 1967até31 de agosto de 1969\\n(2 anos e 169 dias)\\n\\n\\nAliançaRenovadora NacionalARENA\\n\\nPedro Aleixo\\n\\n[nota 26]\\n\\n1966\\n\\n\\n—\\n\\nPedro Aleixo\\n\\n\\n\\nVice-Presidente impedido de tomar posse como Presidente pela Junta Governativa Provisória de 1969\\n\\nAliançaRenovadora NacionalARENA\\n\\nnenhum\\n\\n[nota 27][18]\\n\\n-\\n\\n\\n—\\n\\nJunta Governativa Provisória de 1969\\n\\n\\n\\n31 de agosto de 1969até30 de outubro de 1969\\n(60 dias)\\n\\n\\nnenhum (militares)\\n\\nnenhum\\n\\n[nota 28]\\n\\n-\\n\\n\\n28\\n\\nEmílio Garrastazu Médici\\n\\n\\n\\n30 de outubro de 1969até15 de março de 1974\\n(4 anos e 136 dias)\\n\\n\\nAliançaRenovadora NacionalARENA\\n\\nAugusto Rademaker\\n\\n[19]\\n\\n1969\\n\\n\\n29\\n\\nErnesto Geisel\\n\\n\\n\\n15 de março de 1974até15 de março de 1979\\n(5 anos)\\n\\n\\nAliançaRenovadora NacionalARENA\\n\\nAdalberto Pereira dos Santos\\n\\n[20]\\n\\n1974\\n\\n\\n30\\n\\nJoão Figueiredo\\n\\n\\n\\n15 de março de 1979até15 de março de 1985\\n(6 anos)\\n\\n\\nAliançaRenovadora NacionalARENA\\n\\nAureliano Chaves\\n\\n[nota 29][21]\\n\\n1978\\n\\n\\nPartidoDemocrático SocialPDS\\n\\n\\n\\nSexta República (Nova república)\\nSexta República (Nova república)(15 de março de 1985 à atualidade – 34\\xa0anos, 1\\xa0mês e 2\\xa0dias)\\n\\n\\n\\n—\\n\\nTancredo Neves\\n\\n\\n\\nMorreu antes de tomar posse\\n\\nPartido do MovimentoDemocrático BrasileiroPMDB\\n\\nJosé Sarney\\n\\n[nota 30][nota 31]\\n\\n1985\\n\\n\\n31\\n\\nJosé Sarney\\n\\n\\n\\n15 de março de 1985até15 de março de 1990\\n(5 anos)\\n\\n\\nPartido do MovimentoDemocrático BrasileiroPMDB\\n\\nnenhum\\n\\n[nota 32]\\n\\n-\\n\\n\\n32\\n\\nFernando Collor\\n\\n\\n\\n15 de março de 1990até29 de dezembro de 1992\\n(2 anos e 289 dias)\\n\\n\\nPartido daReconstrução NacionalPRN\\n\\nItamar Franco\\n\\n[nota 33]\\n\\n1989\\n\\n\\n33\\n\\nItamar Franco\\n\\n\\n\\n29 de dezembro de 1992até1º de janeiro de 1995\\n(2 anos e 3 dias)\\n\\n\\nPartido do MovimentoDemocrático BrasileiroPMDB\\n\\nnenhum\\n\\n[nota 34]\\n\\n-\\n\\n\\n34\\n\\nFernando Henrique Cardoso\\n\\n\\n\\n1º de janeiro de 1995até1º de janeiro de 2003\\n(8 anos)\\n\\n\\nPartido da SocialDemocracia BrasileiraPSDB\\n\\nMarco Maciel\\n[22]\\n\\n1994\\n\\n\\n1998\\n\\n\\n35\\n\\nLuiz Inácio Lula da Silva\\n\\n\\n\\n1º de janeiro de 2003até1º de janeiro de 2011\\n(8 anos)\\n\\n\\nPartido dosTrabalhadoresPT\\n\\nJosé Alencar\\n\\n[23]\\n\\n2002\\n\\n\\n2006\\n\\n\\n36\\n\\nDilma Rousseff\\n\\n\\n\\n1° de janeiro de 2011até31 de agosto de 2016\\n(5 anos e 243 dias)\\n\\n\\nPartido dosTrabalhadoresPT\\n\\nMichel Temer\\n\\n[nota 35][24][25]\\n\\n2010\\n\\n\\n2014\\n\\n\\n37\\n\\nMichel Temer\\n\\n\\n\\n31 de agosto de 2016até1º de janeiro de 2019\\n(2 anos e 123 dias)\\n\\n\\nPartido do MovimentoDemocrático BrasileiroPMDB\\n\\nnenhum\\n\\n[nota 36]\\n\\n-\\n\\n\\n38\\n\\nJair Bolsonaro\\n\\n\\n\\n1º de janeiro de 2019\\n(106 dias até o momento)\\n\\n\\nPartidoSocial LiberalPSL\\n\\nHamilton Mourão\\n\\n[26]\\n\\n2018\\n']"
            ]
          },
          "metadata": {
            "tags": []
          },
          "execution_count": 22
        }
      ]
    },
    {
      "metadata": {
        "id": "tnP9jul_nbrP",
        "colab_type": "code",
        "colab": {
          "base_uri": "https://localhost:8080/",
          "height": 340
        },
        "outputId": "0f9ceef4-75c4-4002-c1b8-555421ccb596"
      },
      "cell_type": "code",
      "source": [
        " "
      ],
      "execution_count": 12,
      "outputs": [
        {
          "output_type": "error",
          "ename": "ArticleNotFound",
          "evalue": "ignored",
          "traceback": [
            "\u001b[0;31m---------------------------------------------------------------------------\u001b[0m",
            "\u001b[0;31mArticleNotFound\u001b[0m                           Traceback (most recent call last)",
            "\u001b[0;32m<ipython-input-12-38a96a447a32>\u001b[0m in \u001b[0;36m<module>\u001b[0;34m()\u001b[0m\n\u001b[1;32m      1\u001b[0m \u001b[0;32mfrom\u001b[0m \u001b[0mwikitables\u001b[0m \u001b[0;32mimport\u001b[0m \u001b[0mimport_tables\u001b[0m\u001b[0;34m\u001b[0m\u001b[0;34m\u001b[0m\u001b[0m\n\u001b[0;32m----> 2\u001b[0;31m \u001b[0mtables\u001b[0m \u001b[0;34m=\u001b[0m \u001b[0mimport_tables\u001b[0m\u001b[0;34m(\u001b[0m\u001b[0;34m'Presidentes do Brasil'\u001b[0m\u001b[0;34m)\u001b[0m \u001b[0;31m#returns a list of WikiTable objects\u001b[0m\u001b[0;34m\u001b[0m\u001b[0;34m\u001b[0m\u001b[0m\n\u001b[0m\u001b[1;32m      3\u001b[0m \u001b[0mprint\u001b[0m\u001b[0;34m(\u001b[0m\u001b[0mtables\u001b[0m\u001b[0;34m)\u001b[0m\u001b[0;34m\u001b[0m\u001b[0;34m\u001b[0m\u001b[0m\n",
            "\u001b[0;32m/usr/local/lib/python3.6/dist-packages/wikitables/__init__.py\u001b[0m in \u001b[0;36mimport_tables\u001b[0;34m(article, lang)\u001b[0m\n\u001b[1;32m     11\u001b[0m \u001b[0;32mdef\u001b[0m \u001b[0mimport_tables\u001b[0m\u001b[0;34m(\u001b[0m\u001b[0marticle\u001b[0m\u001b[0;34m,\u001b[0m \u001b[0mlang\u001b[0m\u001b[0;34m=\u001b[0m\u001b[0;34m\"en\"\u001b[0m\u001b[0;34m)\u001b[0m\u001b[0;34m:\u001b[0m\u001b[0;34m\u001b[0m\u001b[0;34m\u001b[0m\u001b[0m\n\u001b[1;32m     12\u001b[0m     \u001b[0mclient\u001b[0m \u001b[0;34m=\u001b[0m \u001b[0mClient\u001b[0m\u001b[0;34m(\u001b[0m\u001b[0mlang\u001b[0m\u001b[0;34m)\u001b[0m\u001b[0;34m\u001b[0m\u001b[0;34m\u001b[0m\u001b[0m\n\u001b[0;32m---> 13\u001b[0;31m     \u001b[0mpage\u001b[0m \u001b[0;34m=\u001b[0m \u001b[0mclient\u001b[0m\u001b[0;34m.\u001b[0m\u001b[0mfetch_page\u001b[0m\u001b[0;34m(\u001b[0m\u001b[0marticle\u001b[0m\u001b[0;34m)\u001b[0m\u001b[0;34m\u001b[0m\u001b[0;34m\u001b[0m\u001b[0m\n\u001b[0m\u001b[1;32m     14\u001b[0m     \u001b[0mbody\u001b[0m \u001b[0;34m=\u001b[0m \u001b[0mpage\u001b[0m\u001b[0;34m[\u001b[0m\u001b[0;34m'revisions'\u001b[0m\u001b[0;34m]\u001b[0m\u001b[0;34m[\u001b[0m\u001b[0;36m0\u001b[0m\u001b[0;34m]\u001b[0m\u001b[0;34m[\u001b[0m\u001b[0;34m'*'\u001b[0m\u001b[0;34m]\u001b[0m\u001b[0;34m\u001b[0m\u001b[0;34m\u001b[0m\u001b[0m\n\u001b[1;32m     15\u001b[0m \u001b[0;34m\u001b[0m\u001b[0m\n",
            "\u001b[0;32m/usr/local/lib/python3.6/dist-packages/wikitables/client.py\u001b[0m in \u001b[0;36mfetch_page\u001b[0;34m(self, title, method)\u001b[0m\n\u001b[1;32m     28\u001b[0m         \u001b[0mpageid\u001b[0m \u001b[0;34m=\u001b[0m \u001b[0mlist\u001b[0m\u001b[0;34m(\u001b[0m\u001b[0mpages\u001b[0m\u001b[0;34m.\u001b[0m\u001b[0mkeys\u001b[0m\u001b[0;34m(\u001b[0m\u001b[0;34m)\u001b[0m\u001b[0;34m)\u001b[0m\u001b[0;34m[\u001b[0m\u001b[0;36m0\u001b[0m\u001b[0;34m]\u001b[0m\u001b[0;34m\u001b[0m\u001b[0;34m\u001b[0m\u001b[0m\n\u001b[1;32m     29\u001b[0m         \u001b[0;32mif\u001b[0m \u001b[0mpageid\u001b[0m \u001b[0;34m==\u001b[0m \u001b[0;34m'-1'\u001b[0m\u001b[0;34m:\u001b[0m\u001b[0;34m\u001b[0m\u001b[0;34m\u001b[0m\u001b[0m\n\u001b[0;32m---> 30\u001b[0;31m             \u001b[0;32mraise\u001b[0m \u001b[0mArticleNotFound\u001b[0m\u001b[0;34m(\u001b[0m\u001b[0;34m'no matching articles returned'\u001b[0m\u001b[0;34m)\u001b[0m\u001b[0;34m\u001b[0m\u001b[0;34m\u001b[0m\u001b[0m\n\u001b[0m\u001b[1;32m     31\u001b[0m \u001b[0;34m\u001b[0m\u001b[0m\n\u001b[1;32m     32\u001b[0m         \u001b[0;32mreturn\u001b[0m \u001b[0mpages\u001b[0m\u001b[0;34m[\u001b[0m\u001b[0mpageid\u001b[0m\u001b[0;34m]\u001b[0m\u001b[0;34m\u001b[0m\u001b[0;34m\u001b[0m\u001b[0m\n",
            "\u001b[0;31mArticleNotFound\u001b[0m: no matching articles returned"
          ]
        }
      ]
    },
    {
      "metadata": {
        "id": "PRS_ChWK2TEc",
        "colab_type": "code",
        "colab": {}
      },
      "cell_type": "code",
      "source": [
        ""
      ],
      "execution_count": 0,
      "outputs": []
    },
    {
      "metadata": {
        "id": "uIVWHS-Ivwvc",
        "colab_type": "code",
        "colab": {}
      },
      "cell_type": "code",
      "source": [
        ""
      ],
      "execution_count": 0,
      "outputs": []
    },
    {
      "metadata": {
        "id": "62k9gC7AvqRV",
        "colab_type": "code",
        "colab": {}
      },
      "cell_type": "code",
      "source": [
        ""
      ],
      "execution_count": 0,
      "outputs": []
    },
    {
      "metadata": {
        "id": "3-XCc5yHvoKU",
        "colab_type": "code",
        "colab": {}
      },
      "cell_type": "code",
      "source": [
        ""
      ],
      "execution_count": 0,
      "outputs": []
    },
    {
      "metadata": {
        "id": "haYfGN8mvfUc",
        "colab_type": "code",
        "colab": {}
      },
      "cell_type": "code",
      "source": [
        ""
      ],
      "execution_count": 0,
      "outputs": []
    },
    {
      "metadata": {
        "id": "xhHB7fa2vcgc",
        "colab_type": "code",
        "colab": {}
      },
      "cell_type": "code",
      "source": [
        ""
      ],
      "execution_count": 0,
      "outputs": []
    },
    {
      "metadata": {
        "id": "Hb5dtQJTvbIM",
        "colab_type": "code",
        "colab": {}
      },
      "cell_type": "code",
      "source": [
        ""
      ],
      "execution_count": 0,
      "outputs": []
    },
    {
      "metadata": {
        "id": "vEIj0b5ovX9k",
        "colab_type": "code",
        "colab": {}
      },
      "cell_type": "code",
      "source": [
        ""
      ],
      "execution_count": 0,
      "outputs": []
    }
  ]
}