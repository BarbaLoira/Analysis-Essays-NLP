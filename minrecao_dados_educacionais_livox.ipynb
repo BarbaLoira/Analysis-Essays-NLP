{
  "nbformat": 4,
  "nbformat_minor": 0,
  "metadata": {
    "colab": {
      "name": "minrecao_dados_educacionais_livox.ipynb",
      "version": "0.3.2",
      "provenance": [],
      "include_colab_link": true
    },
    "kernelspec": {
      "name": "python3",
      "display_name": "Python 3"
    },
    "accelerator": "GPU"
  },
  "cells": [
    {
      "cell_type": "markdown",
      "metadata": {
        "id": "view-in-github",
        "colab_type": "text"
      },
      "source": [
        "<a href=\"https://colab.research.google.com/github/BarbaLoira/Analysis-Essays-NLP/blob/master/minrecao_dados_educacionais_livox.ipynb\" target=\"_parent\"><img src=\"https://colab.research.google.com/assets/colab-badge.svg\" alt=\"Open In Colab\"/></a>"
      ]
    },
    {
      "metadata": {
        "id": "bCM7fTzTkEFc",
        "colab_type": "code",
        "outputId": "ba3ef0ba-6fb1-4e7f-e434-0ddbc5e19dad",
        "colab": {
          "base_uri": "https://localhost:8080/",
          "height": 34
        }
      },
      "cell_type": "code",
      "source": [
        "#!pip install wikipedia\n",
        "#!pip install cssselect\n",
        "\n",
        "from wikipedia import wikipedia  \n",
        "wikipedia.search(\"Barack\") \n",
        "# [u'Barak (given name)', u'Barack Obama', u'Barack (brandy)', u'Presidency of Barack Obama', u'Family of Barack Obama', u'First inauguration of Barack Obama', u'Barack Obama presidential campaign, 2008', u'Barack Obama, Sr.', u'Barack Obama citizenship conspiracy theories', u'Presidential transition of Barack Obama']\n",
        "\n",
        "ny = wikipedia.page(\"Barack Obama\")\n",
        "ny.title\n",
        "# u'New York'\n",
        "ny.url\n",
        "# u'http://en.wikipedia.org/wiki/New_York'\n",
        "ny.content\n",
        "# u'New York is a state in the Northeastern region of the United States. New York is the 27th-most exten'...\n",
        "ny.links[0]\n",
        "# u'1790 United States Census'\n",
        "\n",
        "wikipedia.set_lang(\"pt\")\n",
        "wikipedia.summary(\"Barack Obama\", sentences=1)\n",
        "# Facebook est un service de réseautage social en ligne sur Internet permettant d'y publier des informations (photographies, liens, textes, etc.) en contrôlant leur visibilité par différentes catégories de personnes."
      ],
      "execution_count": 0,
      "outputs": [
        {
          "output_type": "stream",
          "text": [
            "Requirement already satisfied: cssselect in /usr/local/lib/python3.6/dist-packages (1.0.3)\n"
          ],
          "name": "stdout"
        }
      ]
    },
    {
      "metadata": {
        "id": "q9EPKXEuu_kN",
        "colab_type": "code",
        "outputId": "34203b1b-485c-4745-8431-624e11a69188",
        "colab": {
          "base_uri": "https://localhost:8080/",
          "height": 68
        }
      },
      "cell_type": "code",
      "source": [
        "sentence = \"Lista de presidentes do Brasil\"\n",
        "wikipedia.search(sentence)\n",
        "result = wikipedia.page(sentence) \n",
        "result.content\n",
        "result.url\n",
        "wikipedia.search(sentence, results=3)\n",
        " "
      ],
      "execution_count": 0,
      "outputs": [
        {
          "output_type": "execute_result",
          "data": {
            "text/plain": [
              "['Lista de presidentes do Brasil',\n",
              " 'Presidente do Brasil',\n",
              " 'Lista de vice-presidentes do Brasil']"
            ]
          },
          "metadata": {
            "tags": []
          },
          "execution_count": 185
        }
      ]
    },
    {
      "metadata": {
        "id": "KLHImxra3312",
        "colab_type": "code",
        "outputId": "2c01c79b-c0d5-470b-84fe-47494a39a133",
        "colab": {
          "base_uri": "https://localhost:8080/",
          "height": 289
        }
      },
      "cell_type": "code",
      "source": [
        " \n",
        "from lxml import html\n",
        "import requests\n",
        "url = result.url\n",
        "tree  = html.fromstring(requests.get(url).text)\n",
        "cells = tree.cssselect('table.wikitable')[0].cssselect('tr th:nth-of-type(1) a')\n",
        "[t.text_content() for t in cells]"
      ],
      "execution_count": 0,
      "outputs": [
        {
          "output_type": "execute_result",
          "data": {
            "text/plain": [
              "['Primeira República',\n",
              " 'Primeira República',\n",
              " 'República Velha',\n",
              " 'República da Espada',\n",
              " 'República Oligárquica',\n",
              " 'Segunda República (Governos Provisório e Constitucional)',\n",
              " 'Segunda República (Governos Provisório e Constitucional)',\n",
              " '[nota 11]',\n",
              " 'Terceira República (Estado Novo)',\n",
              " 'Terceira República (Estado Novo)',\n",
              " 'Quarta República (República Populista)',\n",
              " 'Quarta República (República Populista)',\n",
              " 'Quinta República (Ditadura Militar)',\n",
              " 'Quinta República (Ditadura Militar)',\n",
              " 'Sexta República (Nova república)',\n",
              " 'Sexta República (Nova república)']"
            ]
          },
          "metadata": {
            "tags": []
          },
          "execution_count": 175
        }
      ]
    },
    {
      "metadata": {
        "id": "PRS_ChWK2TEc",
        "colab_type": "code",
        "colab": {}
      },
      "cell_type": "code",
      "source": [
        ""
      ],
      "execution_count": 0,
      "outputs": []
    },
    {
      "metadata": {
        "id": "uIVWHS-Ivwvc",
        "colab_type": "code",
        "colab": {}
      },
      "cell_type": "code",
      "source": [
        ""
      ],
      "execution_count": 0,
      "outputs": []
    },
    {
      "metadata": {
        "id": "62k9gC7AvqRV",
        "colab_type": "code",
        "colab": {}
      },
      "cell_type": "code",
      "source": [
        ""
      ],
      "execution_count": 0,
      "outputs": []
    },
    {
      "metadata": {
        "id": "3-XCc5yHvoKU",
        "colab_type": "code",
        "colab": {}
      },
      "cell_type": "code",
      "source": [
        ""
      ],
      "execution_count": 0,
      "outputs": []
    },
    {
      "metadata": {
        "id": "haYfGN8mvfUc",
        "colab_type": "code",
        "colab": {}
      },
      "cell_type": "code",
      "source": [
        ""
      ],
      "execution_count": 0,
      "outputs": []
    },
    {
      "metadata": {
        "id": "xhHB7fa2vcgc",
        "colab_type": "code",
        "colab": {}
      },
      "cell_type": "code",
      "source": [
        ""
      ],
      "execution_count": 0,
      "outputs": []
    },
    {
      "metadata": {
        "id": "Hb5dtQJTvbIM",
        "colab_type": "code",
        "colab": {}
      },
      "cell_type": "code",
      "source": [
        ""
      ],
      "execution_count": 0,
      "outputs": []
    },
    {
      "metadata": {
        "id": "vEIj0b5ovX9k",
        "colab_type": "code",
        "colab": {}
      },
      "cell_type": "code",
      "source": [
        ""
      ],
      "execution_count": 0,
      "outputs": []
    }
  ]
}